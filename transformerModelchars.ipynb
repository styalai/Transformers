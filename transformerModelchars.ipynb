{
  "cells": [
    {
      "cell_type": "code",
      "source": [
        "import torch\n",
        "import torch.nn as nn\n",
        "from torch.nn import functional as F\n",
        "from tqdm import tqdm\n",
        "import matplotlib.pyplot as plt\n",
        "import numpy as np\n",
        "from math import *"
      ],
      "metadata": {
        "id": "FwfnYTBBIATH"
      },
      "execution_count": 1,
      "outputs": []
    },
    {
      "cell_type": "code",
      "source": [
        "class Head(nn.Module):\n",
        "  \"\"\"one head of self-attention\"\"\"\n",
        "\n",
        "  def __init__(self, head_size):\n",
        "      super().__init__()\n",
        "      self.key = nn.Linear(n_embd, head_size, bias=False)\n",
        "      self.query = nn.Linear(n_embd, head_size, bias=False)\n",
        "      self.value = nn.Linear(n_embd, head_size, bias=False)\n",
        "      self.register_buffer('tril', torch.tril(torch.ones(block_size, block_size)))\n",
        "\n",
        "      self.dropout = nn.Dropout(dropout)\n",
        "\n",
        "  def forward(self, x):\n",
        "    B,T,C = x.shape\n",
        "    k = self.key(x)\n",
        "    q = self.query(x)\n",
        "    # compute attention score (\"affinities\")\n",
        "    wei = q @ k.transpose(-2, -1) * C**-0.5\n",
        "    wei = wei.masked_fill(self.tril[:T, :T] == 0, float('-inf')) # (B, T, T)\n",
        "    wei = F.softmax(wei, dim=-1)# (B, T, T)\n",
        "    wei = self.dropout(wei)\n",
        "    # perform the weighted aggregation of the values\n",
        "    v = self.value(x)\n",
        "    out = wei @ v # (B, T, C)\n",
        "    return out\n",
        "\n",
        "\n",
        "\n",
        "\n",
        "class MultiHeadAttention(nn.Module):\n",
        "  \"\"\"multiple heads of self-attention in parallel\"\"\"\n",
        "\n",
        "  def __init__(self, num_heads, head_size):\n",
        "      super().__init__()\n",
        "      self.heads = nn.ModuleList([Head(head_size) for _ in range(num_heads)])\n",
        "      self.proj = nn.Linear(num_heads * head_size, n_embd)\n",
        "      self.dropout = nn.Dropout(dropout)\n",
        "\n",
        "  def forward(self, x):\n",
        "    out = torch.cat([h(x) for h in self.heads], dim=-1)\n",
        "    out = self.dropout(self.proj(out))\n",
        "    return out\n",
        "\n",
        "\n",
        "\n",
        "\n",
        "class FeedForward(nn.Module):\n",
        "  \"\"\"a simple linear layer followed by a non-linearity\"\"\"\n",
        "\n",
        "  def __init__(self, n_embd):\n",
        "    super().__init__()\n",
        "    self.net = nn.Sequential(\n",
        "        nn.Linear(n_embd, 4 * n_embd),\n",
        "        nn.ReLU(),\n",
        "        nn.Linear(4 * n_embd, n_embd),\n",
        "        nn.Dropout(dropout),\n",
        "    )\n",
        "\n",
        "  def forward(self, x):\n",
        "    return self.net(x)\n",
        "\n",
        "\n",
        "\n",
        "\n",
        "class Block(nn.Module):\n",
        "  \"\"\" Transformer block: communication followed by computation\"\"\"\n",
        "\n",
        "  def __init__(self, n_embd, n_head):\n",
        "     super().__init__()\n",
        "     head_size = n_embd // n_head\n",
        "     self.sa = MultiHeadAttention(n_head, head_size)\n",
        "     self.ffwd = FeedForward(n_embd)\n",
        "     self.ln1 = nn.LayerNorm(n_embd)\n",
        "     self.ln2 = nn.LayerNorm(n_embd)\n",
        "\n",
        "  def forward(self, x):\n",
        "    x = x + self.sa(self.ln1(x))\n",
        "    x = x + self.ffwd(self.ln2(x))\n",
        "    return x\n",
        "\n",
        "\n",
        "class Transformer(nn.Module):\n",
        "\n",
        "    def __init__(self, vocab_size, n_embd, block_size, n_head, n_layer, device):\n",
        "        super().__init__()\n",
        "        self.vocab_size = vocab_size\n",
        "        self.n_embd = n_embd\n",
        "        self.block_size = block_size\n",
        "        self.n_head = n_head\n",
        "        self.n_layer = n_layer\n",
        "        self.device = device\n",
        "\n",
        "        # each token directly reads off the logits for the next token from a lookup table\n",
        "        self.token_embedding_table = nn.Embedding(self.vocab_size, self.n_embd)\n",
        "        self.position_embedding_table = nn.Embedding(self.block_size, self.n_embd)\n",
        "        self.blocks = nn.Sequential(*[Block(self.n_embd, n_head=self.n_head) for _ in range(self.n_layer)])\n",
        "        self.ln_f = nn.LayerNorm(self.n_embd)\n",
        "        self.lm_head = nn.Linear(self.n_embd, self.vocab_size)\n",
        "\n",
        "    def forward(self, idx, targets=None):\n",
        "        B, T = idx.shape\n",
        "\n",
        "        # idx and targets are both (B,T) tensor of integers\n",
        "        tok_emb = self.token_embedding_table(idx) # (B,T,C)\n",
        "        pos_emb = self.position_embedding_table(torch.arange(T, device=self.device)) # T, C\n",
        "\n",
        "        x = tok_emb + pos_emb # (B, T, C)\n",
        "        x = self.blocks(x)\n",
        "        x = self.ln_f(x)\n",
        "        logits = self.lm_head(x) # (B, T, self.vocab_size)\n",
        "\n",
        "        if targets is None:\n",
        "            loss = None\n",
        "        else:\n",
        "            B, T, C = logits.shape\n",
        "            logits = logits.view(B*T, C)\n",
        "            targets = targets.view(B*T)\n",
        "            loss = F.cross_entropy(logits, targets)\n",
        "\n",
        "        return logits, loss\n",
        "\n",
        "    def generate(self, idx, max_new_tokens):\n",
        "        # idx is (B, T) array of indices in the current context\n",
        "        for _ in range(max_new_tokens):\n",
        "            # crop idx to the last self.block_size tokens\n",
        "            idx_cond = idx[:, -self.block_size:]\n",
        "            # get the predictions\n",
        "            logits, loss = self(idx_cond)\n",
        "            # focus only on the last time step\n",
        "            logits = logits[:, -1, :] # becomes (B, C)\n",
        "            # apply softmax to get probabilities\n",
        "            probs = F.softmax(logits, dim=-1) # (B, C)\n",
        "            # sample from the distribution\n",
        "            idx_next = torch.multinomial(probs, num_samples=1) # (B, 1)\n",
        "            # append sampled index to the running sequence\n",
        "            idx = torch.cat((idx, idx_next), dim=1) # (B, T+1)\n",
        "        return idx, idx_next\n",
        "\n",
        "\n",
        "\n",
        "@torch.no_grad()\n",
        "def estimate_loss(model, eval_iters, block_size, batch_size):\n",
        "    out = {}\n",
        "    model.eval()\n",
        "    for split in ['train', 'val']:\n",
        "        losses = torch.zeros(eval_iters)\n",
        "        for k in range(eval_iters):\n",
        "            X, Y = get_batch(split, block_size, batch_size)\n",
        "            logits, loss = model(X, Y)\n",
        "            losses[k] = loss.item()\n",
        "        out[split] = losses.mean()\n",
        "    model.train()\n",
        "    return out\n",
        "\n"
      ],
      "metadata": {
        "id": "1YdYDDzXKqne"
      },
      "execution_count": 2,
      "outputs": []
    },
    {
      "cell_type": "code",
      "source": [
        "try :\n",
        "  with open('/content/drive/MyDrive/Colab Notebooks/datasets/input.txt', 'r', encoding='utf-8') as f:\n",
        "      text = f.read()\n",
        "except:\n",
        "  !wget https://raw.githubusercontent.com/karpathy/char-rnn/master/data/tinyshakespeare/input.txt\n",
        "  with open('input.txt', 'r', encoding='utf-8') as f:\n",
        "      text = f.read()\n",
        "print(len(text))\n",
        "\n",
        "# here are all the unique characters that occur in this text\n",
        "chars = sorted(list(set(text)))\n",
        "vocab_size = len(chars)\n",
        "# create a mapping from characters to integers\n",
        "stoi = { ch:i for i,ch in enumerate(chars) }\n",
        "itos = { i:ch for i,ch in enumerate(chars) }\n",
        "encode = lambda s: [stoi[c] for c in s] # encoder: take a string, output a list of integers\n",
        "decode = lambda l: ''.join([itos[i] for i in l]) # decoder: take a list of integers, output a string\n",
        "\n",
        "# Train and test splits\n",
        "data = torch.tensor(encode(text), dtype=torch.long)\n",
        "n = int(0.1*len(data)) # first 90% will be train, rest val\n",
        "train_data = data[n:]\n",
        "val_data = data[:n]\n",
        "\n",
        "\"\"\"\n",
        "data = torch.tensor(encode(text), dtype=torch.long)\n",
        "n = int(0.9*len(data)) # first 90% will be train, rest val\n",
        "train_data = data[:n]\n",
        "val_data = data[n:]\n",
        "\"\"\"\n",
        "\n",
        "# data loading\n",
        "def get_batch(split, block_size, batch_size):\n",
        "    # generate a small batch of data of inputs x and targets y\n",
        "    data = train_data if split == 'train' else val_data\n",
        "    ix = torch.randint(len(data) - block_size, (batch_size,))\n",
        "    x = torch.stack([data[i:i+block_size] for i in ix])\n",
        "    y = torch.stack([data[i+1:i+block_size+1] for i in ix])\n",
        "    x, y = x.to(device), y.to(device)\n",
        "    return x, y"
      ],
      "metadata": {
        "colab": {
          "base_uri": "https://localhost:8080/"
        },
        "id": "r18aRPT_Ky-C",
        "outputId": "4ec26b08-0700-45b5-ab7c-2a582ef34e8b"
      },
      "execution_count": 27,
      "outputs": [
        {
          "output_type": "stream",
          "name": "stdout",
          "text": [
            "--2024-01-30 15:16:41--  https://raw.githubusercontent.com/karpathy/char-rnn/master/data/tinyshakespeare/input.txt\n",
            "Resolving raw.githubusercontent.com (raw.githubusercontent.com)... 185.199.109.133, 185.199.110.133, 185.199.108.133, ...\n",
            "Connecting to raw.githubusercontent.com (raw.githubusercontent.com)|185.199.109.133|:443... connected.\n",
            "HTTP request sent, awaiting response... 200 OK\n",
            "Length: 1115394 (1.1M) [text/plain]\n",
            "Saving to: ‘input.txt.1’\n",
            "\n",
            "\rinput.txt.1           0%[                    ]       0  --.-KB/s               \rinput.txt.1         100%[===================>]   1.06M  --.-KB/s    in 0.06s   \n",
            "\n",
            "2024-01-30 15:16:42 (19.1 MB/s) - ‘input.txt.1’ saved [1115394/1115394]\n",
            "\n",
            "1115394\n"
          ]
        }
      ]
    },
    {
      "cell_type": "code",
      "source": [
        "# hyperparameters\n",
        "batch_size = 24 # how many independent sequences will we process in parallel?\n",
        "block_size = 300 # what is the maximum context length for predictions? # impact little\n",
        "eval_iters = 3 # more fast ( when it's low )\n",
        "device = 'cuda' if torch.cuda.is_available() else 'cpu'\n",
        "n_embd = 292  # impact big 8*12\n",
        "n_head = 6    # no impact\n",
        "n_layer = 6   # impact\n",
        "dropout = 0.2 # no impact\n",
        "# ------------\n",
        "\n",
        "model = Transformer(vocab_size, n_embd, block_size, n_head, n_layer, device)\n",
        "m = model.to(device)\n",
        "#torch.save(m.state_dict(), '/content/drive/MyDrive/Colab Notebooks/models/hound7,1M')\n",
        "\n",
        "paras = list(str(sum(p.numel() for p in m.parameters())))\n",
        "num = len(paras)-1\n",
        "for i in paras:\n",
        "  if num % 3 == 0:\n",
        "    print(i, end=\" \")\n",
        "    pass\n",
        "  else:\n",
        "    print(i, end=\"\")\n",
        "    pass\n",
        "  num -= 1\n"
      ],
      "metadata": {
        "colab": {
          "base_uri": "https://localhost:8080/"
        },
        "id": "R7rZs_TsK2J3",
        "outputId": "d87fd0d1-c5da-4c80-e8d2-1a2ac42e7670"
      },
      "execution_count": 5,
      "outputs": [
        {
          "output_type": "stream",
          "name": "stdout",
          "text": [
            "6 254 705 "
          ]
        }
      ]
    },
    {
      "cell_type": "code",
      "source": [
        "model = Transformer(vocab_size, n_embd, block_size, n_head, n_layer, device)\n",
        "model.load_state_dict(torch.load('/content/modelchars1'))\n",
        "m = model.to(device)\n",
        "\n",
        "# create a PyTorch optimizer\n",
        "learning_rate = 5e-5\n",
        "optimizer = torch.optim.AdamW(m.parameters(), lr=learning_rate)\n",
        "\n",
        "loss_list_t = []\n",
        "loss_list_v = []\n",
        "max_iters = 500\n",
        "eval_interval = 100\n",
        "\n",
        "for iter in tqdm(range(max_iters)):\n",
        "\n",
        "    # every once in a while evaluate the loss on train and val sets\n",
        "\n",
        "    if iter % eval_interval == 0:\n",
        "        torch.save(m.state_dict(), '/content/modelchars1')\n",
        "\n",
        "        losses = estimate_loss(m, eval_iters, block_size, batch_size)\n",
        "        loss_list_t.append(losses['train'])\n",
        "        loss_list_v.append(losses['val'])\n",
        "        print(f\"step {iter}: train loss {losses['train']:.4f}, val loss {losses['val']:.4f}\")\n",
        "\n",
        "\n",
        "    # sample a batch of data\n",
        "    xb, yb = get_batch('train', block_size, batch_size)\n",
        "\n",
        "    # evaluate the loss\n",
        "    logits, loss = model(xb, yb)\n",
        "    #if iter % eval_interval == 0:\n",
        "     # loss_list.append(loss.item())\n",
        "\n",
        "    optimizer.zero_grad(set_to_none=True)\n",
        "    loss.backward()\n",
        "    optimizer.step()\n",
        "\n",
        "# draw loss\n",
        "print(loss)\n",
        "plt.plot(range(len(loss_list_t)), loss_list_t)\n",
        "plt.plot(range(len(loss_list_v)), loss_list_v)\n",
        "plt.xlabel(\"Number of Iterations\")\n",
        "plt.ylabel(\"Loss\")\n",
        "plt.show()\n",
        "# generate from the model\n",
        "#context = torch.zeros((1, 1), dtype=torch.long, device=device)\n",
        "#print(decode(m.generate(context, max_new_tokens=100)[0].tolist()))"
      ],
      "metadata": {
        "colab": {
          "base_uri": "https://localhost:8080/",
          "height": 574
        },
        "id": "RoKqtMuuK4Xh",
        "outputId": "14856746-3a51-4905-bd29-cf5b574fd1a1"
      },
      "execution_count": 31,
      "outputs": [
        {
          "output_type": "stream",
          "name": "stderr",
          "text": [
            "  0%|          | 1/500 [00:00<05:00,  1.66it/s]"
          ]
        },
        {
          "output_type": "stream",
          "name": "stdout",
          "text": [
            "step 0: train loss 1.7716, val loss 1.8359\n"
          ]
        },
        {
          "output_type": "stream",
          "name": "stderr",
          "text": [
            " 20%|██        | 101/500 [00:18<02:21,  2.82it/s]"
          ]
        },
        {
          "output_type": "stream",
          "name": "stdout",
          "text": [
            "step 100: train loss 1.7588, val loss 1.8288\n"
          ]
        },
        {
          "output_type": "stream",
          "name": "stderr",
          "text": [
            " 40%|████      | 201/500 [00:37<01:37,  3.06it/s]"
          ]
        },
        {
          "output_type": "stream",
          "name": "stdout",
          "text": [
            "step 200: train loss 1.7508, val loss 1.8500\n"
          ]
        },
        {
          "output_type": "stream",
          "name": "stderr",
          "text": [
            " 60%|██████    | 301/500 [00:56<01:04,  3.10it/s]"
          ]
        },
        {
          "output_type": "stream",
          "name": "stdout",
          "text": [
            "step 300: train loss 1.8110, val loss 1.8396\n"
          ]
        },
        {
          "output_type": "stream",
          "name": "stderr",
          "text": [
            " 80%|████████  | 401/500 [01:15<00:30,  3.23it/s]"
          ]
        },
        {
          "output_type": "stream",
          "name": "stdout",
          "text": [
            "step 400: train loss 1.7503, val loss 1.8209\n"
          ]
        },
        {
          "output_type": "stream",
          "name": "stderr",
          "text": [
            "100%|██████████| 500/500 [01:32<00:00,  5.40it/s]\n"
          ]
        },
        {
          "output_type": "stream",
          "name": "stdout",
          "text": [
            "tensor(1.8195, device='cuda:0', grad_fn=<NllLossBackward0>)\n"
          ]
        },
        {
          "output_type": "display_data",
          "data": {
            "text/plain": [
              "<Figure size 640x480 with 1 Axes>"
            ],
            "image/png": "[encoded data removed]"
          },
          "metadata": {}
        }
      ]
    },
    {
      "cell_type": "code",
      "source": [
        "# draw loss\n",
        "print(loss)\n",
        "plt.plot(range(len(loss_list_t)), loss_list_t)\n",
        "plt.plot(range(len(loss_list_v)), loss_list_v)\n",
        "plt.xlabel(\"Number of Iterations\")\n",
        "plt.ylabel(\"Loss\")\n",
        "plt.show()"
      ],
      "metadata": {
        "id": "uQ0K3ru4K7Y_"
      },
      "execution_count": null,
      "outputs": []
    },
    {
      "cell_type": "code",
      "source": [
        "model = Transformer(vocab_size, n_embd, block_size, n_head, n_layer, device)\n",
        "model.load_state_dict(torch.load('/content/modelchars1'))\n",
        "model = model.to(device)\n",
        "\n",
        "context = torch.zeros((1, 1), dtype=torch.long, device=device)\n",
        "#print(decode(   m.generate(context, max_new_tokens=100)[0].tolist()[0]   ))\n",
        "\n",
        "\n",
        "for _ in range(500):\n",
        "  context, out = model.generate(context, max_new_tokens=1)\n",
        "  print(decode(out[0].tolist()), end=\"\")\n"
      ],
      "metadata": {
        "colab": {
          "base_uri": "https://localhost:8080/"
        },
        "id": "rdpy9tVEK-HC",
        "outputId": "f055137b-8196-45c4-b859-fb0dd49ee32d"
      },
      "execution_count": 29,
      "outputs": [
        {
          "output_type": "stream",
          "name": "stdout",
          "text": [
            "no mer; thask wilt gle, ox and ca,\n",
            "Fir pet tis will my to ake and whathee this ccry mach.\n",
            "To tat looked, tin curponnus dupet warthe is.\n",
            "\n",
            "JUllafiefft me sirs as ellabll; as hame be:\n",
            "Laze; ty I corsune; he wand the he clon, Faterd bighth\n",
            "Thy, Thare me deant alls, fig eapp mes quet wor dotl.\n",
            "\n",
            "OMERIVEN:\n",
            "Yor Edquead nike.\n",
            "\n",
            "IShe wich willt! wit, inh iming igs.\n",
            "\n",
            "FRUMERCHCEM:\n",
            "Thop my donotnd allled and thiee rap't;\n",
            "He hiss leary nith bach speet;'dlile bnot ol\n",
            "Forr frach Gound. Wet:\n",
            "That seait bese!ll, s"
          ]
        }
      ]
    },
    {
      "cell_type": "code",
      "source": [],
      "metadata": {
        "id": "Rwj_FXjqLAIq"
      },
      "execution_count": null,
      "outputs": []
    }
  ],
  "metadata": {
    "colab": {
      "provenance": []
    },
    "kernelspec": {
      "display_name": "Python 3",
      "name": "python3"
    },
    "language_info": {
      "name": "python"
    }
  },
  "nbformat": 4,
  "nbformat_minor": 0
}