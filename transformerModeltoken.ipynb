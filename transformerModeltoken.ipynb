{
  "nbformat": 4,
  "nbformat_minor": 0,
  "metadata": {
    "colab": {
      "provenance": [],
      "gpuType": "T4"
    },
    "kernelspec": {
      "name": "python3",
      "display_name": "Python 3"
    },
    "language_info": {
      "name": "python"
    },
    "accelerator": "GPU"
  },
  "cells": [
    {
      "cell_type": "code",
      "execution_count": 1,
      "metadata": {
        "id": "6-7Gu5AH8_Hy"
      },
      "outputs": [],
      "source": [
        "import torch\n",
        "import torch.nn as nn\n",
        "from torch.nn import functional as F\n",
        "from tqdm import tqdm\n",
        "import matplotlib.pyplot as plt\n",
        "import numpy as np\n",
        "from math import *\n",
        "from tokenizers import ByteLevelBPETokenizer\n",
        "from transformers import RobertaTokenizerFast"
      ]
    },
    {
      "cell_type": "code",
      "source": [
        "class Head(nn.Module):\n",
        "  \"\"\"one head of self-attention\"\"\"\n",
        "\n",
        "  def __init__(self, head_size):\n",
        "      super().__init__()\n",
        "      self.key = nn.Linear(n_embd, head_size, bias=False)\n",
        "      self.query = nn.Linear(n_embd, head_size, bias=False)\n",
        "      self.value = nn.Linear(n_embd, head_size, bias=False)\n",
        "      self.register_buffer('tril', torch.tril(torch.ones(block_size, block_size)))\n",
        "\n",
        "      self.dropout = nn.Dropout(dropout)\n",
        "\n",
        "  def forward(self, x):\n",
        "    B,T,C = x.shape\n",
        "    k = self.key(x)\n",
        "    q = self.query(x)\n",
        "    # compute attention score (\"affinities\")\n",
        "    wei = q @ k.transpose(-2, -1) * C**-0.5\n",
        "    wei = wei.masked_fill(self.tril[:T, :T] == 0, float('-inf')) # (B, T, T)\n",
        "    wei = F.softmax(wei, dim=-1)# (B, T, T)\n",
        "    wei = self.dropout(wei)\n",
        "    # perform the weighted aggregation of the values\n",
        "    v = self.value(x)\n",
        "    out = wei @ v # (B, T, C)\n",
        "    return out\n",
        "\n",
        "\n",
        "\n",
        "\n",
        "class MultiHeadAttention(nn.Module):\n",
        "  \"\"\"multiple heads of self-attention in parallel\"\"\"\n",
        "\n",
        "  def __init__(self, num_heads, head_size):\n",
        "      super().__init__()\n",
        "      self.heads = nn.ModuleList([Head(head_size) for _ in range(num_heads)])\n",
        "      self.proj = nn.Linear(num_heads * head_size, n_embd)\n",
        "      self.dropout = nn.Dropout(dropout)\n",
        "\n",
        "  def forward(self, x):\n",
        "    out = torch.cat([h(x) for h in self.heads], dim=-1)\n",
        "    out = self.dropout(self.proj(out))\n",
        "    return out\n",
        "\n",
        "\n",
        "\n",
        "\n",
        "class FeedForward(nn.Module):\n",
        "  \"\"\"a simple linear layer followed by a non-linearity\"\"\"\n",
        "\n",
        "  def __init__(self, n_embd):\n",
        "    super().__init__()\n",
        "    self.net = nn.Sequential(\n",
        "        nn.Linear(n_embd, 4 * n_embd),\n",
        "        nn.ReLU(),\n",
        "        nn.Linear(4 * n_embd, n_embd),\n",
        "        nn.Dropout(dropout),\n",
        "    )\n",
        "\n",
        "  def forward(self, x):\n",
        "    return self.net(x)\n",
        "\n",
        "\n",
        "\n",
        "\n",
        "class Block(nn.Module):\n",
        "  \"\"\" Transformer block: communication followed by computation\"\"\"\n",
        "\n",
        "  def __init__(self, n_embd, n_head):\n",
        "     super().__init__()\n",
        "     head_size = n_embd // n_head\n",
        "     self.sa = MultiHeadAttention(n_head, head_size)\n",
        "     self.ffwd = FeedForward(n_embd)\n",
        "     self.ln1 = nn.LayerNorm(n_embd)\n",
        "     self.ln2 = nn.LayerNorm(n_embd)\n",
        "\n",
        "  def forward(self, x):\n",
        "    x = x + self.sa(self.ln1(x))\n",
        "    x = x + self.ffwd(self.ln2(x))\n",
        "    return x\n",
        "\n",
        "\n",
        "class Transformer(nn.Module):\n",
        "\n",
        "    def __init__(self, vocab_size, n_embd, block_size, n_head, n_layer, device):\n",
        "        super().__init__()\n",
        "        self.vocab_size = vocab_size\n",
        "        self.n_embd = n_embd\n",
        "        self.block_size = block_size\n",
        "        self.n_head = n_head\n",
        "        self.n_layer = n_layer\n",
        "        self.device = device\n",
        "\n",
        "        # each token directly reads off the logits for the next token from a lookup table\n",
        "        self.token_embedding_table = nn.Embedding(self.vocab_size, self.n_embd)\n",
        "        self.position_embedding_table = nn.Embedding(self.block_size, self.n_embd)\n",
        "        self.blocks = nn.Sequential(*[Block(self.n_embd, n_head=self.n_head) for _ in range(self.n_layer)])\n",
        "        self.ln_f = nn.LayerNorm(self.n_embd)\n",
        "        self.lm_head = nn.Linear(self.n_embd, self.vocab_size)\n",
        "\n",
        "    def forward(self, idx, targets=None):\n",
        "        B, T = idx.shape\n",
        "\n",
        "        # idx and targets are both (B,T) tensor of integers\n",
        "        tok_emb = self.token_embedding_table(idx) # (B,T,C)\n",
        "        pos_emb = self.position_embedding_table(torch.arange(T, device=self.device)) # T, C\n",
        "\n",
        "        x = tok_emb + pos_emb # (B, T, C)\n",
        "        x = self.blocks(x)\n",
        "        x = self.ln_f(x)\n",
        "        logits = self.lm_head(x) # (B, T, self.vocab_size)\n",
        "\n",
        "        if targets is None:\n",
        "            loss = None\n",
        "        else:\n",
        "            B, T, C = logits.shape\n",
        "            logits = logits.view(B*T, C)\n",
        "            targets = targets.view(B*T)\n",
        "            loss = F.cross_entropy(logits, targets)\n",
        "\n",
        "        return logits, loss\n",
        "\n",
        "    def generate(self, idx, max_new_tokens):\n",
        "        # idx is (B, T) array of indices in the current context\n",
        "        for _ in range(max_new_tokens):\n",
        "            # crop idx to the last self.block_size tokens\n",
        "            idx_cond = idx[:, -self.block_size:]\n",
        "            # get the predictions\n",
        "            logits, loss = self(idx_cond)\n",
        "            # focus only on the last time step\n",
        "            logits = logits[:, -1, :] # becomes (B, C)\n",
        "            # apply softmax to get probabilities\n",
        "            probs = F.softmax(logits, dim=-1) # (B, C)\n",
        "            # sample from the distribution\n",
        "            idx_next = torch.multinomial(probs, num_samples=1) # (B, 1)\n",
        "            # append sampled index to the running sequence\n",
        "            idx = torch.cat((idx, idx_next), dim=1) # (B, T+1)\n",
        "        return idx, idx_next\n",
        "\n",
        "\n",
        "\n",
        "@torch.no_grad()\n",
        "def estimate_loss(model, eval_iters, block_size, batch_size):\n",
        "    out = {}\n",
        "    model.eval()\n",
        "    for split in ['train', 'val']:\n",
        "        losses = torch.zeros(eval_iters)\n",
        "        for k in range(eval_iters):\n",
        "            X, Y = get_batch(split, block_size, batch_size)\n",
        "            logits, loss = model(X, Y)\n",
        "            losses[k] = loss.item()\n",
        "        out[split] = losses.mean()\n",
        "    model.train()\n",
        "    return out\n",
        "\n"
      ],
      "metadata": {
        "id": "8HKcrS3s9Hj_"
      },
      "execution_count": 2,
      "outputs": []
    },
    {
      "cell_type": "code",
      "source": [
        "try :\n",
        "  with open('/content/input.txt', 'r', encoding='utf-8') as f:\n",
        "      text = f.read()\n",
        "except:\n",
        "  !wget https://raw.githubusercontent.com/karpathy/char-rnn/master/data/tinyshakespeare/input.txt\n",
        "  with open('input.txt', 'r', encoding='utf-8') as f:\n",
        "      text = f.read()\n",
        "print(len(text))\n",
        "\n",
        "tokenizer = ByteLevelBPETokenizer()\n",
        "tokenizer.train(files=\"input.txt\", vocab_size=1000)\n",
        "tokenizer.save_model('tokenizer')\n",
        "tokenizer = RobertaTokenizerFast.from_pretrained('tokenizer')\n"
      ],
      "metadata": {
        "colab": {
          "base_uri": "https://localhost:8080/"
        },
        "id": "ZL3aR9ReCgcV",
        "outputId": "3c2a145d-8f67-4543-fb9a-e402349ac23b"
      },
      "execution_count": 3,
      "outputs": [
        {
          "output_type": "stream",
          "name": "stdout",
          "text": [
            "1115394\n"
          ]
        }
      ]
    },
    {
      "cell_type": "code",
      "source": [
        "vocab_size = tokenizer.vocab_size + 5\n",
        "# Train and test splits\n",
        "\"\"\"\n",
        "data = torch.tensor(tokenizer(text)[\"input_ids\"], dtype=torch.long)\n",
        "n = int(0.1*len(data)) # first 90% will be train, rest val\n",
        "train_data = data[n:]\n",
        "val_data = data[:n]\n",
        "\n",
        "\"\"\"\n",
        "data = torch.tensor(tokenizer(text)[\"input_ids\"], dtype=torch.long)\n",
        "n = int(0.9*len(data)) # first 90% will be train, rest val\n",
        "train_data = data[:n]\n",
        "val_data = data[n:]\n",
        "\n",
        "\n",
        "# data loading\n",
        "def get_batch(split, block_size, batch_size):\n",
        "    # generate a small batch of data of inputs x and targets y\n",
        "    data = train_data if split == 'train' else val_data\n",
        "    ix = torch.randint(len(data) - block_size, (batch_size,))\n",
        "    x = torch.stack([data[i:i+block_size] for i in ix])\n",
        "    y = torch.stack([data[i+1:i+block_size+1] for i in ix])\n",
        "    x, y = x.to(device), y.to(device)\n",
        "    return x, y"
      ],
      "metadata": {
        "id": "QN0pKH6H9H-f"
      },
      "execution_count": 4,
      "outputs": []
    },
    {
      "cell_type": "code",
      "source": [
        "# hyperparameters\n",
        "batch_size = 24 # how many independent sequences will we process in parallel?\n",
        "block_size = 300 # what is the maximum context length for predictions? # impact little\n",
        "eval_iters = 2 # more fast ( when it's low )\n",
        "device = 'cuda' if torch.cuda.is_available() else 'cpu'\n",
        "n_embd = 292  # impact big 8*12\n",
        "n_head = 6    # no impact\n",
        "n_layer = 6   # impact\n",
        "dropout = 0.2 # no impact\n",
        "# ------------\n",
        "\n",
        "model = Transformer(vocab_size, n_embd, block_size, n_head, n_layer, device)\n",
        "m = model.to(device)\n",
        "#torch.save(m.state_dict(), '/content/drive/MyDrive/Colab Notebooks/models/hound7,1M')\n",
        "\n",
        "paras = list(str(sum(p.numel() for p in m.parameters())))\n",
        "num = len(paras)-1\n",
        "for i in paras:\n",
        "  if num % 3 == 0:\n",
        "    print(i, end=\" \")\n",
        "    pass\n",
        "  else:\n",
        "    print(i, end=\"\")\n",
        "    pass\n",
        "  num -= 1\n"
      ],
      "metadata": {
        "colab": {
          "base_uri": "https://localhost:8080/"
        },
        "id": "YksAGGWJ9JT-",
        "outputId": "48239f77-5978-4e82-fa82-a9d88fbc1b4f"
      },
      "execution_count": 5,
      "outputs": [
        {
          "output_type": "stream",
          "name": "stdout",
          "text": [
            "6 804 605 "
          ]
        }
      ]
    },
    {
      "cell_type": "code",
      "source": [
        "model = Transformer(vocab_size, n_embd, block_size, n_head, n_layer, device)\n",
        "model.load_state_dict(torch.load('/content/modeltoken1'))\n",
        "m = model.to(device)\n",
        "\n",
        "# create a PyTorch optimizer\n",
        "learning_rate = 1e-4\n",
        "optimizer = torch.optim.AdamW(m.parameters(), lr=learning_rate)\n",
        "\n",
        "loss_list_t = []\n",
        "loss_list_v = []\n",
        "max_iters = 500\n",
        "eval_interval = 100\n",
        "\n",
        "for iter in tqdm(range(max_iters)):\n",
        "\n",
        "    # every once in a while evaluate the loss on train and val sets\n",
        "\n",
        "    if iter % eval_interval == 0:\n",
        "        torch.save(m.state_dict(), '/content/modeltoken1')\n",
        "\n",
        "        losses = estimate_loss(m, eval_iters, block_size, batch_size)\n",
        "        loss_list_t.append(losses['train'])\n",
        "        loss_list_v.append(losses['val'])\n",
        "        print(f\"step {iter}: train loss {losses['train']:.4f}, val loss {losses['val']:.4f}\")\n",
        "\n",
        "\n",
        "    # sample a batch of data\n",
        "    xb, yb = get_batch('train', block_size, batch_size)\n",
        "\n",
        "    # evaluate the loss\n",
        "    logits, loss = model(xb, yb)\n",
        "    #if iter % eval_interval == 0:\n",
        "     # loss_list.append(loss.item())\n",
        "\n",
        "    optimizer.zero_grad(set_to_none=True)\n",
        "    loss.backward()\n",
        "    optimizer.step()\n",
        "\n",
        "# draw loss\n",
        "print(loss)\n",
        "plt.plot(range(len(loss_list_t)), loss_list_t)\n",
        "plt.plot(range(len(loss_list_v)), loss_list_v)\n",
        "plt.xlabel(\"Number of Iterations\")\n",
        "plt.ylabel(\"Loss\")\n",
        "plt.show()\n",
        "# generate from the model\n",
        "#context = torch.zeros((1, 1), dtype=torch.long, device=device)\n",
        "#print(decode(m.generate(context, max_new_tokens=100)[0].tolist()))"
      ],
      "metadata": {
        "colab": {
          "base_uri": "https://localhost:8080/",
          "height": 579
        },
        "id": "YHeWKqAA9LB_",
        "outputId": "a5fe2813-f852-4e4c-a528-94929846d7b0"
      },
      "execution_count": 9,
      "outputs": [
        {
          "output_type": "stream",
          "name": "stderr",
          "text": [
            "  0%|          | 1/500 [00:00<04:17,  1.94it/s]"
          ]
        },
        {
          "output_type": "stream",
          "name": "stdout",
          "text": [
            "step 0: train loss 3.6403, val loss 3.4492\n"
          ]
        },
        {
          "output_type": "stream",
          "name": "stderr",
          "text": [
            " 20%|██        | 101/500 [00:17<01:49,  3.66it/s]"
          ]
        },
        {
          "output_type": "stream",
          "name": "stdout",
          "text": [
            "step 100: train loss 3.5913, val loss 3.4697\n"
          ]
        },
        {
          "output_type": "stream",
          "name": "stderr",
          "text": [
            " 40%|████      | 201/500 [00:35<01:19,  3.77it/s]"
          ]
        },
        {
          "output_type": "stream",
          "name": "stdout",
          "text": [
            "step 200: train loss 3.6166, val loss 3.6084\n"
          ]
        },
        {
          "output_type": "stream",
          "name": "stderr",
          "text": [
            " 60%|██████    | 301/500 [00:52<00:53,  3.73it/s]"
          ]
        },
        {
          "output_type": "stream",
          "name": "stdout",
          "text": [
            "step 300: train loss 3.5200, val loss 3.5623\n"
          ]
        },
        {
          "output_type": "stream",
          "name": "stderr",
          "text": [
            " 80%|████████  | 401/500 [01:10<00:26,  3.68it/s]"
          ]
        },
        {
          "output_type": "stream",
          "name": "stdout",
          "text": [
            "step 400: train loss 3.5829, val loss 3.6407\n"
          ]
        },
        {
          "output_type": "stream",
          "name": "stderr",
          "text": [
            "100%|██████████| 500/500 [01:27<00:00,  5.70it/s]\n"
          ]
        },
        {
          "output_type": "stream",
          "name": "stdout",
          "text": [
            "tensor(3.6142, device='cuda:0', grad_fn=<NllLossBackward0>)\n"
          ]
        },
        {
          "output_type": "display_data",
          "data": {
            "text/plain": [
              "<Figure size 640x480 with 1 Axes>"
            ],
            "image/png": "[encoded data removed]"
          },
          "metadata": {}
        }
      ]
    },
    {
      "cell_type": "code",
      "source": [
        "model = Transformer(vocab_size, n_embd, block_size, n_head, n_layer, device)\n",
        "model.load_state_dict(torch.load('/content/modeltoken1'))\n",
        "model = model.to(device)\n",
        "\n",
        "context = torch.zeros((1, 1), dtype=torch.long, device=device)\n",
        "#print(decode(   m.generate(context, max_new_tokens=100)[0].tolist()[0]   ))\n",
        "\n",
        "\n",
        "for _ in range(500):\n",
        "  context, out = model.generate(context, max_new_tokens=1)\n",
        "  print(tokenizer.decode( out[0].tolist()[0] ), end=\"\")\n"
      ],
      "metadata": {
        "colab": {
          "base_uri": "https://localhost:8080/"
        },
        "id": "JR5T5N06A4cR",
        "outputId": "b596c9e3-2fcd-4302-e828-630d496bf44d"
      },
      "execution_count": 11,
      "outputs": [
        {
          "output_type": "stream",
          "name": "stdout",
          "text": [
            "\n",
            "Ralif 'CLIET:\n",
            "What dead thy temed, but still his cast.\n",
            "\n",
            "MENENIUS: come, for thou can keep in my iousin,\n",
            "\n",
            "Pardon'st, no intready move me gage;\n",
            "Whose it were all on our disp'd Jo yarry,\n",
            "Three every part;\n",
            "A soucentalt that will not eyex'd in here wrong\n",
            "He to sword Clare bears.\n",
            "GUE:\n",
            "Ay, than he say, we have lady\n",
            " kiss me speak these can scity at Polsid; is leagety:\n",
            "Then have bornsusety years rebed choly give hers\n",
            "Parts lives pain'd is,\n",
            "Well and the very fappy Romeofed.\n",
            "Thy on their bloody sork-by denry in an unk of eyes,\n",
            "Is the course lit's readly ed of her change\n",
            "And does: let it be bragraidh'd;\n",
            "The at gone now reasure\n",
            "Whould trived his breakespround with such deeping;\n",
            "Shither eyes have book, as in his brother's about;\n",
            "Yly backsiests my lord's mond,\n",
            "The shipy of us all that doth morn,\n",
            "s have suffer die likeer's times, 'tancess\n",
            "Comes too much enough\n",
            "And slains wooning great possess\n",
            "Looks of my in blood reins your pard and Is!\n",
            "He hath sinsers vid with play the rob,\n",
            "Thou her be ride us seed is cher bloodyOr alittrongss,\n",
            "Com against was but spees,\n",
            "That thoughts that I did spoes? Need, my know notfear the making?\n",
            "A grace in hopet Ruty vivin, you didst well.\n",
            "\n",
            "And leave thy sturde sm to him.\n",
            "\n",
            "CORIOLANUS"
          ]
        }
      ]
    },
    {
      "cell_type": "code",
      "source": [],
      "metadata": {
        "id": "KsEbRbraDDXM"
      },
      "execution_count": null,
      "outputs": []
    }
  ]
}